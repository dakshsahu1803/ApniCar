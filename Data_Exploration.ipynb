# notebooks/1_Data_Exploration.ipynb
import pandas as pd
import numpy as np
import seaborn as sns
import matplotlib.pyplot as plt
import os

# Create dummy data as the file doesn't exist yet
if not os.path.exists('../data'):
    os.makedirs('../data')

#Dummy Car Data

car_brands = ['Maruti', 'Hyundai', 'Tata', 'Mahindra', 'Honda', 'Toyota']
fuel_types = ['Petrol', 'Diesel', 'CNG']
car_data = {
    'brand': np.random.choice(car_brands, 500),
    'year': np.random.randint(2010, 2024, 500),
    'kms_driven': np.random.randint(10000, 150000, 500),
    'fuel_type': np.random.choice(fuel_types, 500),
    'price': np.random.randint(300000, 2500000, 500)
}
car_df = pd.DataFrame(car_data)
car_df.to_csv('../data/car_data.csv', index=False)

# Dummy Fuel Price Data
date_range = pd.to_datetime(pd.date_range(start='2022-01-01', periods=500))
fuel_price_data = {
    'date': date_range,
    'price': 95 + 10 * np.sin(np.arange(500) / 50) + np.random.normal(0, 0.5, 500)
}
fuel_df = pd.DataFrame(fuel_price_data)
fuel_df.to_csv('../data/fuel_data.csv', index=False)


# --- Start of Analysis ---
print("--- Car Dataset Analysis ---")
print(car_df.info())
print("\nCar Data Description:\n", car_df.describe())

# Visualize car price distribution
plt.figure(figsize=(10, 6))
sns.histplot(car_df['price'], kde=True, bins=30)
plt.title('Distribution of Car Prices')
plt.xlabel('Price (in Rupees)')
plt.ylabel('Frequency')
plt.show()


print("\n--- Fuel Price Dataset Analysis ---")
fuel_df['date'] = pd.to_datetime(fuel_df['date'])
fuel_df.set_index('date', inplace=True)
print(fuel_df.info())

# Visualize fuel price trend
plt.figure(figsize=(12, 6))
fuel_df['price'].plot()
plt.title('Fuel Price Trend Over Time')
plt.xlabel('Date')
plt.ylabel('Price (per Litre)')
plt.grid(True)
plt.show()
